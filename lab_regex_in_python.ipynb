{
  "cells": [
    {
      "cell_type": "markdown",
      "metadata": {
        "id": "nrdZd0U4SMaL"
      },
      "source": [
        "# LAB | Regular Expressions (Regex) in Python"
      ]
    },
    {
      "cell_type": "markdown",
      "metadata": {
        "id": "Rc3oH7sYSMaO"
      },
      "source": [
        "## Overview\n",
        "This exercise notebook will help you practice using regular expressions in Python. Regular expressions are powerful tools for matching patterns in strings, which can be useful for validation, searching, and data manipulation.\n",
        "\n",
        "## Instructions\n",
        "- Complete each exercise by writing the appropriate regex pattern and Python code in the provided space.\n",
        "- Test your code to ensure it works as expected.\n",
        "<!-- - Use the hints provided if you get stuck. -->"
      ]
    },
    {
      "cell_type": "markdown",
      "metadata": {
        "id": "dO6legiqSMaP"
      },
      "source": [
        "### Exercise 1: Match Email Addresses\n",
        "Write a regex pattern to match valid email addresses. An email address should contain an '@' symbol and a domain."
      ]
    },
    {
      "cell_type": "code",
      "execution_count": null,
      "metadata": {
        "colab": {
          "base_uri": "https://localhost:8080/"
        },
        "id": "qCxpOtF7SMaQ",
        "outputId": "ea886ad7-16d8-4a32-b0cf-93760a77bb6f"
      },
      "outputs": [
        {
          "output_type": "stream",
          "name": "stdout",
          "text": [
            "Valid email\n"
          ]
        }
      ],
      "source": [
        "import re\n",
        "\n",
        "# Example input\n",
        "email = \"example@example.com\"\n",
        "\n",
        "# Regex pattern for matching valid email addresses\n",
        "pattern = r\"^[a-zA-Z0-9._%+-]+@[a-zA-Z0-9.-]+\\.[a-zA-Z]{2,}$\"\n",
        "\n",
        "# Test the regex using fullmatch to ensure full string match\n",
        "if re.fullmatch(pattern, email):\n",
        "    print(\"Valid email\")\n",
        "else:\n",
        "    print(\"Invalid email\")\n"
      ]
    },
    {
      "cell_type": "markdown",
      "metadata": {
        "id": "tBdskpSSSMaR"
      },
      "source": [
        "### Exercise 2: Validate Phone Numbers\n",
        "Create a regex pattern to validate phone numbers in the format (123) 456-7890 or 123-456-7890."
      ]
    },
    {
      "cell_type": "code",
      "execution_count": null,
      "metadata": {
        "colab": {
          "base_uri": "https://localhost:8080/"
        },
        "id": "IYczLTM2SMaR",
        "outputId": "f83f450b-41f6-4bc2-fe73-ad6f8d0e194b"
      },
      "outputs": [
        {
          "output_type": "stream",
          "name": "stdout",
          "text": [
            "1234567890\n"
          ]
        }
      ],
      "source": [
        "import re\n",
        "\n",
        "# Example input\n",
        "phone_number = \"(123) 456-7890\"\n",
        "\n",
        "# Regex pattern to match only the numbers\n",
        "pattern = r\"\\d+\"\n",
        "\n",
        "# Extract all the numbers\n",
        "numbers = re.findall(pattern, phone_number)\n",
        "\n",
        "# Join all the numbers to form a continuous string of digits\n",
        "phone_number_digits = \"\".join(numbers)\n",
        "\n",
        "print(phone_number_digits)\n"
      ]
    },
    {
      "cell_type": "markdown",
      "metadata": {
        "id": "B8vWNDFWSMaS"
      },
      "source": [
        "### Exercise 3: Extract Dates\n",
        "Write a regex pattern to extract dates in the format YYYY-MM-DD from a string."
      ]
    },
    {
      "cell_type": "code",
      "execution_count": null,
      "metadata": {
        "colab": {
          "base_uri": "https://localhost:8080/"
        },
        "id": "1dIarSmHSMaS",
        "outputId": "bd302386-0a8e-46da-ad3d-6a0839522703"
      },
      "outputs": [
        {
          "output_type": "stream",
          "name": "stdout",
          "text": [
            "['2024-12-25']\n"
          ]
        }
      ],
      "source": [
        "import re\n",
        "\n",
        "# Example input\n",
        "text = \"The event is scheduled for 2024-12-25.\"\n",
        "\n",
        "# Your regex pattern here\n",
        "pattern = r\"\\d{4}-\\d{2}-\\d{2}\"\n",
        "\n",
        "# Find all matches\n",
        "dates = re.findall(pattern, text)\n",
        "print(dates)"
      ]
    },
    {
      "cell_type": "markdown",
      "metadata": {
        "id": "SaRsW1uFSMaT"
      },
      "source": [
        "### Exercise 4: Match URLs\n",
        "Create a regex pattern to match URLs that start with http:// or https://."
      ]
    },
    {
      "cell_type": "code",
      "execution_count": null,
      "metadata": {
        "colab": {
          "base_uri": "https://localhost:8080/"
        },
        "id": "gMdopMtvSMaT",
        "outputId": "053b0e91-748e-4118-df84-be58043c64a5"
      },
      "outputs": [
        {
          "output_type": "stream",
          "name": "stdout",
          "text": [
            "Valid URL\n"
          ]
        }
      ],
      "source": [
        "import re\n",
        "\n",
        "# Example input\n",
        "url = \"https://www.example.com\"\n",
        "\n",
        "# Regex pattern for matching URLs\n",
        "pattern = r\"^https?://[a-zA-Z0-9.-]+\\.[a-zA-Z]{2,}$\"\n",
        "\n",
        "# Test the regex using fullmatch to ensure full string match\n",
        "if re.fullmatch(pattern, url):\n",
        "    print(\"Valid URL\")\n",
        "else:\n",
        "    print(\"Invalid URL\")\n"
      ]
    },
    {
      "cell_type": "markdown",
      "metadata": {
        "id": "-Xnrwf4XSMaU"
      },
      "source": [
        "### Exercise 5: Find Words Starting with a Specific Letter\n",
        "Write a regex pattern to find all words starting with the letter 'a' in a given string."
      ]
    },
    {
      "cell_type": "code",
      "execution_count": null,
      "metadata": {
        "colab": {
          "base_uri": "https://localhost:8080/"
        },
        "id": "cg7S0JzpSMaU",
        "outputId": "e7db5d06-096b-4178-f469-477294b0017f"
      },
      "outputs": [
        {
          "output_type": "stream",
          "name": "stdout",
          "text": [
            "['A', 'a']\n"
          ]
        }
      ],
      "source": [
        "import re\n",
        "\n",
        "# Example input\n",
        "text = \"A quick brown fox jumps over a lazy dog.\"\n",
        "\n",
        "# Your regex pattern here\n",
        "pattern = r\"\\b[aA]\\w*\"\n",
        "\n",
        "# Find all matches\n",
        "words = re.findall(pattern, text)\n",
        "print(words)"
      ]
    },
    {
      "cell_type": "markdown",
      "metadata": {
        "id": "SmYFtNMKSMaV"
      },
      "source": [
        "### Exercise 6: Match Hexadecimal Colors\n",
        "Create a regex pattern to match hexadecimal color codes (e.g., #FFFFFF)."
      ]
    },
    {
      "cell_type": "code",
      "execution_count": null,
      "metadata": {
        "colab": {
          "base_uri": "https://localhost:8080/"
        },
        "id": "Z6-Zp9pHSMaV",
        "outputId": "a92d0ab8-a5a5-4c02-a35d-fb04f061e406"
      },
      "outputs": [
        {
          "output_type": "stream",
          "name": "stdout",
          "text": [
            "Valid hex color code\n"
          ]
        }
      ],
      "source": [
        "import re\n",
        "\n",
        "# Example input\n",
        "color_code = \"#FFFFFF\"\n",
        "\n",
        "# Your regex pattern here\n",
        "pattern = r\"^#[0-9a-fA-F]{6}$\"\n",
        "\n",
        "# Test the regex\n",
        "if re.match(pattern, color_code):\n",
        "    print(\"Valid hex color code\")\n",
        "else:\n",
        "    print(\"Invalid hex color code\")"
      ]
    },
    {
      "cell_type": "markdown",
      "metadata": {
        "id": "H6DXtBZBSMaW"
      },
      "source": [
        "### Exercise 7: Validate Passwords\n",
        "Write a regex pattern to validate passwords that must be at least 8 characters long and contain at least one uppercase letter, one lowercase letter, one digit, and one special character."
      ]
    },
    {
      "cell_type": "code",
      "execution_count": null,
      "metadata": {
        "colab": {
          "base_uri": "https://localhost:8080/"
        },
        "id": "dwlFKijpSMaX",
        "outputId": "c582b089-acf8-4172-9c53-34d2945641f7"
      },
      "outputs": [
        {
          "output_type": "stream",
          "name": "stdout",
          "text": [
            "Valid password\n"
          ]
        }
      ],
      "source": [
        "import re\n",
        "\n",
        "# Example input\n",
        "password = \"Password123!\"\n",
        "\n",
        "# Your regex pattern here\n",
        "pattern = r\"^(?=.*[a-z])(?=.*[A-Z])(?=.*\\d)(?=.*[@$!%*?&])[A-Za-z\\d@$!%*?&]{8,}$\"\n",
        "\n",
        "# Test the regex\n",
        "if re.match(pattern, password):\n",
        "    print(\"Valid password\")\n",
        "else:\n",
        "    print(\"Invalid password\")"
      ]
    },
    {
      "cell_type": "markdown",
      "metadata": {
        "id": "s7TCMHHMSMaY"
      },
      "source": [
        "### Exercise 8: Remove Extra Spaces\n",
        "Create a regex pattern that removes extra spaces from a string while keeping single spaces between words."
      ]
    },
    {
      "cell_type": "code",
      "execution_count": null,
      "metadata": {
        "colab": {
          "base_uri": "https://localhost:8080/"
        },
        "id": "wpBVSbreSMaY",
        "outputId": "8cd6f3b2-cd64-4497-a5a1-7c4c5c3c9c66"
      },
      "outputs": [
        {
          "output_type": "stream",
          "name": "stdout",
          "text": [
            "This is an example.\n"
          ]
        }
      ],
      "source": [
        "import re\n",
        "\n",
        "# Example input\n",
        "text = \"This   is   an   example.\"\n",
        "\n",
        "# Your regex pattern here\n",
        "pattern = r\"\\s{2,}\"\n",
        "\n",
        "# Replace extra spaces\n",
        "cleaned_text = re.sub(pattern, \" \", text)\n",
        "print(cleaned_text)"
      ]
    },
    {
      "cell_type": "markdown",
      "metadata": {
        "id": "tdW2cymYSMaZ"
      },
      "source": [
        "### Exercise 9: Match IP Addresses\n",
        "Write a regex pattern to match valid IPv4 addresses."
      ]
    },
    {
      "cell_type": "code",
      "execution_count": null,
      "metadata": {
        "colab": {
          "base_uri": "https://localhost:8080/"
        },
        "id": "BdTxYwOzSMad",
        "outputId": "4e081540-3e29-43b0-be75-b6a32691fba5"
      },
      "outputs": [
        {
          "output_type": "stream",
          "name": "stdout",
          "text": [
            "Valid IP address\n"
          ]
        }
      ],
      "source": [
        "import re\n",
        "\n",
        "# Example input\n",
        "ip_address = \"192.168.1.1\"\n",
        "\n",
        "# Your regex pattern here\n",
        "pattern = r\"^((25[0-5]|2[0-4][0-9]|[01]?[0-9][0-9]?)\\.){3}(25[0-5]|2[0-4][0-9]|[01]?[0-9][0-9]?)$\"\n",
        "\n",
        "# Test the regex\n",
        "if re.match(pattern, ip_address):\n",
        "    print(\"Valid IP address\")\n",
        "else:\n",
        "    print(\"Invalid IP address\")"
      ]
    },
    {
      "cell_type": "markdown",
      "metadata": {
        "id": "0VfJaKexSMae"
      },
      "source": [
        "### Exercise 10: Extract Hashtags\n",
        "Create a regex pattern to extract hashtags from a string."
      ]
    },
    {
      "cell_type": "code",
      "execution_count": null,
      "metadata": {
        "colab": {
          "base_uri": "https://localhost:8080/"
        },
        "id": "IzmhXkF9SMah",
        "outputId": "0f6ef94d-3d51-4f28-a8b9-d95582f493af"
      },
      "outputs": [
        {
          "output_type": "stream",
          "name": "stdout",
          "text": [
            "['#Python', '#Regex', '#Coding']\n"
          ]
        }
      ],
      "source": [
        "import re\n",
        "\n",
        "# Example input\n",
        "text = \"Here are some hashtags: #Python #Regex #Coding.\"\n",
        "\n",
        "# Your regex pattern here\n",
        "pattern = r\"#\\w+\"\n",
        "\n",
        "# Find all matches\n",
        "hashtags = re.findall(pattern, text)\n",
        "print(hashtags)"
      ]
    },
    {
      "cell_type": "markdown",
      "metadata": {
        "id": "LXtpI9eHSMak"
      },
      "source": [
        "## Bonus Exercises\n"
      ]
    },
    {
      "cell_type": "markdown",
      "metadata": {
        "id": "2XwhQmdYSMal"
      },
      "source": [
        "\n",
        "### Bonus Exercise 1: Match All Digits\n",
        "Write a regex pattern to match all digits in a given string."
      ]
    },
    {
      "cell_type": "code",
      "execution_count": null,
      "metadata": {
        "colab": {
          "base_uri": "https://localhost:8080/"
        },
        "id": "R-YIlSbYSMam",
        "outputId": "167d1fd9-05bc-486e-882a-aad50eb34549"
      },
      "outputs": [
        {
          "output_type": "stream",
          "name": "stdout",
          "text": [
            "['2', '3']\n"
          ]
        }
      ],
      "source": [
        "import re\n",
        "\n",
        "# Example input\n",
        "text = \"There are 2 apples and 3 oranges.\"\n",
        "\n",
        "# Your regex pattern here\n",
        "pattern = r\"\\d+\"\n",
        "\n",
        "# Find all matches\n",
        "digits = re.findall(pattern, text)\n",
        "print(digits)"
      ]
    },
    {
      "cell_type": "markdown",
      "metadata": {
        "id": "-wFBwuXiSMa9"
      },
      "source": [
        "### Bonus Exercise 2: Validate Credit Card Numbers  \n",
        "Create a regex pattern to validate credit card numbers (16 digits)."
      ]
    },
    {
      "cell_type": "code",
      "execution_count": 45,
      "metadata": {
        "colab": {
          "base_uri": "https://localhost:8080/"
        },
        "id": "bLtBywzjSMa-",
        "outputId": "e2fc8b7e-2532-40cb-abc8-3951591526f3"
      },
      "outputs": [
        {
          "output_type": "stream",
          "name": "stdout",
          "text": [
            "Valid credit card number\n"
          ]
        }
      ],
      "source": [
        "import re\n",
        "\n",
        "# Example input\n",
        "credit_card_number = \"1234-5678-9876-5432\"\n",
        "\n",
        "# Your regex pattern here\n",
        "pattern = r\"^\\d{4}-\\d{4}-\\d{4}-\\d{4}$|^\\d{16}$\"\n",
        "\n",
        "# Test the regex\n",
        "if re.match(pattern, credit_card_number):\n",
        "    print(\"Valid credit card number\")\n",
        "else:\n",
        "    print(\"Invalid credit card number\")"
      ]
    },
    {
      "cell_type": "markdown",
      "metadata": {
        "id": "nYm9LyBdSMa_"
      },
      "source": [
        "### Bonus Exercise 3: Match Non-Alphanumeric Characters  \n",
        "Write a regex pattern to match non-alphanumeric characters in a string."
      ]
    },
    {
      "cell_type": "code",
      "execution_count": 46,
      "metadata": {
        "colab": {
          "base_uri": "https://localhost:8080/"
        },
        "id": "J7xvqHGDSMa_",
        "outputId": "27eae37c-737d-44fb-8caf-78c9e746b9f9"
      },
      "outputs": [
        {
          "output_type": "stream",
          "name": "stdout",
          "text": [
            "['!', ' ', ' ', ' ', '?', ' ', '@', '.']\n"
          ]
        }
      ],
      "source": [
        "import re\n",
        "\n",
        "# Example input\n",
        "text = \"Hello! How are you? @Python3.\"\n",
        "\n",
        "# Your regex pattern here\n",
        "pattern = r\"\\W\"\n",
        "\n",
        "# Find all matches\n",
        "non_alphanumeric_chars = re.findall(pattern, text)\n",
        "print(non_alphanumeric_chars)"
      ]
    },
    {
      "cell_type": "markdown",
      "metadata": {
        "id": "_f_yZKXKSMbA"
      },
      "source": [
        "### Bonus Exercise 4: Validate Date Format  \n",
        "Create a regex pattern to validate dates in the format DD/MM/YYYY."
      ]
    },
    {
      "cell_type": "code",
      "execution_count": 47,
      "metadata": {
        "colab": {
          "base_uri": "https://localhost:8080/"
        },
        "id": "A2mNuV-JSMbA",
        "outputId": "d727f602-edb8-461c-9783-d6ee418fd622"
      },
      "outputs": [
        {
          "output_type": "stream",
          "name": "stdout",
          "text": [
            "Valid date format\n"
          ]
        }
      ],
      "source": [
        "import re\n",
        "\n",
        "# Example input\n",
        "date_string = \"25/12/2024\"\n",
        "\n",
        "# Your regex pattern here\n",
        "pattern = r\"^(0[1-9]|[12][0-9]|3[01])/(0[1-9]|1[0-2])/\\d{4}$\"\n",
        "\n",
        "# Test the regex\n",
        "if re.match(pattern, date_string):\n",
        "    print(\"Valid date format\")\n",
        "else:\n",
        "    print(\"Invalid date format\")"
      ]
    },
    {
      "cell_type": "markdown",
      "metadata": {
        "id": "Wgl1C1NLSMbB"
      },
      "source": [
        "### Bonus Exercise 5: Extract Email Domains  \n",
        "Write a regex pattern to extract domains from email addresses."
      ]
    },
    {
      "cell_type": "code",
      "execution_count": 48,
      "metadata": {
        "colab": {
          "base_uri": "https://localhost:8080/"
        },
        "id": "8CuQGp_ESMbB",
        "outputId": "c394ce0f-e5b8-4c30-943a-c41445405ff4"
      },
      "outputs": [
        {
          "output_type": "stream",
          "name": "stdout",
          "text": [
            "<re.Match object; span=(5, 16), match='example.com'>\n",
            "<re.Match object; span=(6, 16), match='domain.org'>\n"
          ]
        }
      ],
      "source": [
        "import re\n",
        "\n",
        "# Example input\n",
        "email_list = [\"user@example.com\", \"admin@domain.org\"]\n",
        "\n",
        "# Your regex pattern here\n",
        "pattern = r\"(?<=@)[a-zA-Z0-9.-]+\\.[a-zA-Z]{2,}\"\n",
        "\n",
        "for email in email_list:\n",
        "    domain = re.search(pattern, email)\n",
        "    if domain:\n",
        "        print(domain)  # Print extracted domain part."
      ]
    },
    {
      "cell_type": "markdown",
      "metadata": {
        "id": "1sLu3Yt_SMbC"
      },
      "source": [
        "### Exercise Completion  \n",
        "Once you have completed all exercises:\n",
        "- Review your solutions.\n",
        "- Ensure your regular expressions and Python code are well-documented with comments explaining your logic.\n",
        "- Save your notebook for submission or further review.\n",
        "\n",
        "Happy coding! Enjoy practicing Regular Expressions in Python!"
      ]
    }
  ],
  "metadata": {
    "kernelspec": {
      "display_name": ".venv",
      "language": "python",
      "name": "python3"
    },
    "language_info": {
      "codemirror_mode": {
        "name": "ipython",
        "version": 3
      },
      "file_extension": ".py",
      "mimetype": "text/x-python",
      "name": "python",
      "nbconvert_exporter": "python",
      "pygments_lexer": "ipython3",
      "version": "3.8.0"
    },
    "colab": {
      "provenance": []
    }
  },
  "nbformat": 4,
  "nbformat_minor": 0
}